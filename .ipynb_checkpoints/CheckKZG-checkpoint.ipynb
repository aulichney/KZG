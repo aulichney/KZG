{
 "cells": [
  {
   "cell_type": "code",
   "execution_count": 1,
   "id": "3bc5350b",
   "metadata": {},
   "outputs": [],
   "source": [
    "from kzg_proofs import *\n",
    "import numpy as np"
   ]
  },
  {
   "cell_type": "code",
   "execution_count": 2,
   "id": "57e6aa4a",
   "metadata": {},
   "outputs": [],
   "source": [
    "#packages from: \n",
    "#https://github.com/ethereum/research/tree/master/polynomial_reconstruction"
   ]
  },
  {
   "cell_type": "markdown",
   "id": "0f631814",
   "metadata": {},
   "source": [
    "1. Commit to a polynomial f(x) say of degree 100. Then pick, say, 100 points x_i and compute y_i = f(x_i). \n",
    "2. Then call the Prove algorithm Prove with inputs (x_i,y_i). This will output a proof object, proof_i.\n",
    "3. Then call algorithm Verify with inputs proof_i, x_i,y_i. If all calls to verify output \"accept\" then it means that you are running the code correctly (ie that indeed y_i = f(x_i))\n"
   ]
  },
  {
   "cell_type": "code",
   "execution_count": 3,
   "id": "614e5a99",
   "metadata": {},
   "outputs": [],
   "source": [
    " poly = list(np.random.randint(0, 100, 11))"
   ]
  },
  {
   "cell_type": "code",
   "execution_count": 4,
   "id": "1a1af5b9",
   "metadata": {},
   "outputs": [],
   "source": [
    "#create x y pairs \n",
    "#x = np.random.randnint(100) * 10\n",
    "x = np.random.randint(0, 100, 100)\n",
    "evals = eval_poly_at(poly, x)\n",
    "\n",
    "pairs = list(zip(x, evals))"
   ]
  },
  {
   "cell_type": "code",
   "execution_count": 5,
   "id": "a2f1357b",
   "metadata": {},
   "outputs": [],
   "source": [
    "#generate setup\n",
    "s = 17\n",
    "setup = generate_setup(s, len(poly))"
   ]
  },
  {
   "cell_type": "code",
   "execution_count": 6,
   "id": "265ac017",
   "metadata": {},
   "outputs": [],
   "source": [
    "#commit to polynomial \n",
    "commitment = commit_to_poly(poly, setup)"
   ]
  },
  {
   "cell_type": "code",
   "execution_count": 7,
   "id": "5ad0f650",
   "metadata": {},
   "outputs": [],
   "source": [
    "test_pair = pairs[0]\n",
    "test_proof = compute_proof_single(poly, test_pair[0], setup)"
   ]
  },
  {
   "cell_type": "code",
   "execution_count": 8,
   "id": "262923f9",
   "metadata": {},
   "outputs": [],
   "source": [
    "check_proof = check_proof_single(commitment, test_proof, test_pair[0], test_pair[1], setup)"
   ]
  },
  {
   "cell_type": "code",
   "execution_count": 9,
   "id": "49b55afa",
   "metadata": {},
   "outputs": [
    {
     "data": {
      "text/plain": [
       "True"
      ]
     },
     "execution_count": 9,
     "metadata": {},
     "output_type": "execute_result"
    }
   ],
   "source": [
    "check_proof"
   ]
  },
  {
   "cell_type": "code",
   "execution_count": null,
   "id": "d3adc729",
   "metadata": {},
   "outputs": [],
   "source": []
  },
  {
   "cell_type": "code",
   "execution_count": null,
   "id": "6fcda811",
   "metadata": {},
   "outputs": [],
   "source": []
  },
  {
   "cell_type": "code",
   "execution_count": null,
   "id": "9b8aff3c",
   "metadata": {},
   "outputs": [],
   "source": []
  },
  {
   "cell_type": "code",
   "execution_count": null,
   "id": "3f06db40",
   "metadata": {},
   "outputs": [],
   "source": []
  }
 ],
 "metadata": {
  "kernelspec": {
   "display_name": "Python 3",
   "language": "python",
   "name": "python3"
  },
  "language_info": {
   "codemirror_mode": {
    "name": "ipython",
    "version": 3
   },
   "file_extension": ".py",
   "mimetype": "text/x-python",
   "name": "python",
   "nbconvert_exporter": "python",
   "pygments_lexer": "ipython3",
   "version": "3.8.8"
  }
 },
 "nbformat": 4,
 "nbformat_minor": 5
}
